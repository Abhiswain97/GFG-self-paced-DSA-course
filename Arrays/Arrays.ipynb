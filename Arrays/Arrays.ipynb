{
 "cells": [
  {
   "cell_type": "code",
   "execution_count": 3,
   "id": "84420d32",
   "metadata": {},
   "outputs": [],
   "source": [
    "import random"
   ]
  },
  {
   "cell_type": "markdown",
   "id": "71df1061",
   "metadata": {},
   "source": [
    "# Array\n",
    "\n",
    "Array is Contiguos & Linear data structure"
   ]
  },
  {
   "cell_type": "markdown",
   "id": "4e169c49",
   "metadata": {},
   "source": [
    "## Advantages\n",
    "\n",
    "### Random Access: \n",
    "\n",
    "Once you know the address of the first element in the Array, you can just add to it to get the location of othe elements.\n",
    "\n",
    "### Cache friendliness: \n",
    "\n",
    "Cache is a memory closest to CPU, so any item in cache is fast to acquire. Prefetching only works with Arrays."
   ]
  },
  {
   "cell_type": "markdown",
   "id": "5332fffc",
   "metadata": {},
   "source": [
    "## Array types:\n",
    "\n",
    "### Fixed size arrays:\n",
    "\n",
    "In C & C++ fixed arrays are created the following ways:\n",
    "\n",
    "- Stack Allocated\n",
    "\n",
    "```c\n",
    "int arr[100];\n",
    "```\n",
    "\n",
    "- Heap Allocated\n",
    "\n",
    "```c++\n",
    "int arr* = new int[100];\n",
    "```\n",
    "\n",
    "### Dynamic arrays:\n",
    "\n",
    "List in python are dynamic in nature, the c++ equivalent is STL vector\n",
    "\n",
    "The size grows automatically, we don't need to know then size in advance.\n",
    "\n",
    "List in python below: "
   ]
  },
  {
   "cell_type": "code",
   "execution_count": 4,
   "id": "63a9930e",
   "metadata": {},
   "outputs": [
    {
     "name": "stdout",
     "output_type": "stream",
     "text": [
      "<class 'list'>\n"
     ]
    }
   ],
   "source": [
    "arr = []\n",
    "print(type(arr))"
   ]
  },
  {
   "cell_type": "markdown",
   "id": "60f7d233",
   "metadata": {},
   "source": [
    "## Operations on Arrays"
   ]
  },
  {
   "cell_type": "markdown",
   "id": "5ce4d658",
   "metadata": {},
   "source": [
    "### Searching "
   ]
  },
  {
   "cell_type": "code",
   "execution_count": 5,
   "id": "98d1fe77",
   "metadata": {},
   "outputs": [],
   "source": [
    "def search(arr, key):\n",
    "    for i in range(len(arr)):\n",
    "        if key == arr[i]:\n",
    "            return i\n",
    "    return -1"
   ]
  },
  {
   "cell_type": "code",
   "execution_count": 7,
   "id": "30791c70",
   "metadata": {},
   "outputs": [
    {
     "name": "stdout",
     "output_type": "stream",
     "text": [
      "[10, 2, 8, 4, 9, 8, 5, 0, 7, 6]\n"
     ]
    },
    {
     "data": {
      "text/plain": [
       "6"
      ]
     },
     "execution_count": 7,
     "metadata": {},
     "output_type": "execute_result"
    }
   ],
   "source": [
    "arr = [random.randint(0, 10) for _ in range(10)]\n",
    "print(arr)\n",
    "search(arr, random.randint(0, 10))"
   ]
  },
  {
   "cell_type": "markdown",
   "id": "7d99608d",
   "metadata": {},
   "source": [
    "### Inserting"
   ]
  },
  {
   "cell_type": "code",
   "execution_count": 32,
   "id": "1587ed75",
   "metadata": {},
   "outputs": [],
   "source": [
    "def insert_at_pos(arr, pos, key, size, cap):\n",
    "    if pos == cap:\n",
    "        return \"Already full!\"\n",
    "    else:\n",
    "        idx = pos - 1\n",
    "        i = size - 1\n",
    "        while(i >= idx):\n",
    "            arr[i + 1] = arr[i]\n",
    "            i -= 1\n",
    "        \n",
    "        arr[idx] = key\n",
    "        \n",
    "        return arr"
   ]
  },
  {
   "cell_type": "code",
   "execution_count": 33,
   "id": "55b17620",
   "metadata": {},
   "outputs": [
    {
     "data": {
      "text/plain": [
       "[1, 2, 1001, 3, 4, 5, 0, 0, 0, 0, 0, 0, 0, 0, 0]"
      ]
     },
     "execution_count": 33,
     "metadata": {},
     "output_type": "execute_result"
    }
   ],
   "source": [
    "arr = [1, 2, 3, 4, 5] + [0] * 10\n",
    "insert_at_pos(arr, 3, 1001, 10, 15)"
   ]
  },
  {
   "cell_type": "markdown",
   "id": "5b2bd658",
   "metadata": {},
   "source": [
    "$$ \\textrm{Time complexity of insert fixed size arrays} = O(n) $$"
   ]
  },
  {
   "cell_type": "markdown",
   "id": "74af8b2e",
   "metadata": {},
   "source": [
    "$$ \\textrm{Average time complexity for insertion in a Dynamic array} = \\frac{O(1) + \\dots + \\theta(n)}{(n + 1)} = O(1) $$ "
   ]
  },
  {
   "cell_type": "code",
   "execution_count": null,
   "id": "6fd8a215",
   "metadata": {},
   "outputs": [],
   "source": []
  }
 ],
 "metadata": {
  "kernelspec": {
   "display_name": "Python 3 (ipykernel)",
   "language": "python",
   "name": "python3"
  },
  "language_info": {
   "codemirror_mode": {
    "name": "ipython",
    "version": 3
   },
   "file_extension": ".py",
   "mimetype": "text/x-python",
   "name": "python",
   "nbconvert_exporter": "python",
   "pygments_lexer": "ipython3",
   "version": "3.9.12"
  }
 },
 "nbformat": 4,
 "nbformat_minor": 5
}
